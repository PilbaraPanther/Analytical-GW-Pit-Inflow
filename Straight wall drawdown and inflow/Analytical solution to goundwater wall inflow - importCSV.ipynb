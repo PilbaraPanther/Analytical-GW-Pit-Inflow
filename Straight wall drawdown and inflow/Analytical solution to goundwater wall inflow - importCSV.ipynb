{
 "cells": [
  {
   "cell_type": "code",
   "execution_count": 1,
   "source": [
    "import math\r\n",
    "import numpy as np\r\n",
    "import pandas as pd\r\n",
    "import matplotlib.pyplot as plt\r\n",
    "import matplotlib \r\n",
    "matplotlib.style.use('ggplot')\r\n",
    "from datetime import datetime"
   ],
   "outputs": [],
   "metadata": {}
  },
  {
   "cell_type": "code",
   "execution_count": 3,
   "source": [
    "width = 200\r\n",
    "        \r\n",
    "#input parameters for pit inflow \r\n",
    "hp = 0 #assumes SWL is at pit base\r\n",
    "W  = 0.0002 #distributed recharge\r\n",
    "kh1 = 0.1 #Hydraulic conductivity\r\n",
    "Base = 50 #base of cut or quarry in elevation or keep at zero metres\r\n",
    "sGWL = 70 #standing water level. can be elevation if base is in elevation, otherwise in metres above\r\n",
    "h0 = sGWL - Base #Initial saturated thickness of aquifer for model purposes\r\n",
    "b = 3  #Saturated thickness at face   \r\n",
    "\r\n",
    "print(h0)\r\n",
    "#h = h0 in this first equation to get distance of influence for aquifer thickness\r\n",
    "DistOfInfluence = math.sqrt(h0 **2 * kh1 - b**2 * kh1)/math.sqrt(W)\r\n",
    "\r\n",
    "#DistUpgradient = 19 # some distance upgradient from the face\r\n",
    "DistUpgradient = np.linspace(1,DistOfInfluence,10)\r\n",
    "\r\n",
    "for dist in DistUpgradient:\r\n",
    "    h = math.sqrt(b**2 +W/kh1*(2*DistOfInfluence * dist - dist**2))\r\n",
    "    Q = W * dist * width\r\n",
    "    Drawdown = h0 - h\r\n",
    "    \r\n",
    "    print('DistUpgradient is: ',round(dist,1),\r\n",
    "    ', Saturated height at distance upgradient: ',round(h,1),'m',\r\n",
    "    ',Drawdown is: ',round(Drawdown,1),'m',\r\n",
    "    ', Discharge is: ',round(Q,1),'m3/day')\r\n"
   ],
   "outputs": [
    {
     "output_type": "stream",
     "name": "stdout",
     "text": [
      "20\n",
      "DistUpgradient is:  1.0 , Saturated height at distance upgradient:  3.3 m ,Drawdown is:  16.7 m , Discharge is:  0.0 m3/day\n",
      "DistUpgradient is:  50.0 , Saturated height at distance upgradient:  9.6 m ,Drawdown is:  10.4 m , Discharge is:  2.0 m3/day\n",
      "DistUpgradient is:  99.0 , Saturated height at distance upgradient:  12.8 m ,Drawdown is:  7.2 m , Discharge is:  4.0 m3/day\n",
      "DistUpgradient is:  148.1 , Saturated height at distance upgradient:  15.1 m ,Drawdown is:  4.9 m , Discharge is:  5.9 m3/day\n",
      "DistUpgradient is:  197.1 , Saturated height at distance upgradient:  16.7 m ,Drawdown is:  3.3 m , Discharge is:  7.9 m3/day\n",
      "DistUpgradient is:  246.1 , Saturated height at distance upgradient:  18.0 m ,Drawdown is:  2.0 m , Discharge is:  9.8 m3/day\n",
      "DistUpgradient is:  295.1 , Saturated height at distance upgradient:  18.9 m ,Drawdown is:  1.1 m , Discharge is:  11.8 m3/day\n",
      "DistUpgradient is:  344.1 , Saturated height at distance upgradient:  19.5 m ,Drawdown is:  0.5 m , Discharge is:  13.8 m3/day\n",
      "DistUpgradient is:  393.1 , Saturated height at distance upgradient:  19.9 m ,Drawdown is:  0.1 m , Discharge is:  15.7 m3/day\n",
      "DistUpgradient is:  442.2 , Saturated height at distance upgradient:  20.0 m ,Drawdown is:  0.0 m , Discharge is:  17.7 m3/day\n"
     ]
    }
   ],
   "metadata": {}
  },
  {
   "cell_type": "code",
   "execution_count": 36,
   "source": [
    "#fDischarge at straight face wall\r\n",
    "#Q=W * Distance of Influence * length of wall\r\n",
    "\r\n",
    "Q = W * DistOfInfluence * width\r\n",
    "print('Discharge is: ',round(Q,1),'m3/day')"
   ],
   "outputs": [
    {
     "output_type": "stream",
     "name": "stdout",
     "text": [
      "Discharge is:  17.9 m3/day\n"
     ]
    }
   ],
   "metadata": {}
  },
  {
   "cell_type": "code",
   "execution_count": 37,
   "source": [
    "#saturated thickness at some distance upgradient from the face\r\n",
    "h = math.sqrt(b**2 +W*(2*DistOfInfluence * DistUpgradient - DistUpgradient**2))/kh1\r\n",
    "h\r\n"
   ],
   "outputs": [
    {
     "output_type": "execute_result",
     "data": {
      "text/plain": [
       "63.252389592053845"
      ]
     },
     "metadata": {},
     "execution_count": 37
    }
   ],
   "metadata": {}
  }
 ],
 "metadata": {
  "orig_nbformat": 4,
  "language_info": {
   "name": "python",
   "version": "3.8.8",
   "mimetype": "text/x-python",
   "codemirror_mode": {
    "name": "ipython",
    "version": 3
   },
   "pygments_lexer": "ipython3",
   "nbconvert_exporter": "python",
   "file_extension": ".py"
  },
  "kernelspec": {
   "name": "python3",
   "display_name": "Python 3.8.8 64-bit ('base': conda)"
  },
  "interpreter": {
   "hash": "0e2092c8f9f7f316f37f91a11bd7564422990ac18a77b4b948a3dd68f7fe76a0"
  }
 },
 "nbformat": 4,
 "nbformat_minor": 2
}