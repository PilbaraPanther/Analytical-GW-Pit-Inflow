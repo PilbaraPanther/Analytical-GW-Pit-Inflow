{
 "cells": [
  {
   "cell_type": "code",
   "execution_count": 1,
   "source": [
    "import math\r\n",
    "import numpy as np\r\n",
    "import pandas as pd\r\n",
    "import matplotlib.pyplot as plt\r\n",
    "import matplotlib \r\n",
    "matplotlib.style.use('ggplot')\r\n",
    "from datetime import datetime"
   ],
   "outputs": [],
   "metadata": {}
  },
  {
   "cell_type": "markdown",
   "source": [
    "# Input parameters for pit inflow  \r\n",
    "Imported from csv file - <i>'Straight_Wall_Inflow_Params.csv'</i>\r\n",
    "\r\n",
    "NOTE: This is for a static intial set saturated height at the wall. variable <b>b</b>"
   ],
   "metadata": {}
  },
  {
   "cell_type": "code",
   "execution_count": 14,
   "source": [
    "df = pd.read_csv('Straight_Wall_Inflow_Params.csv', header=0, index_col = 'Parameter')\r\n",
    "#calcs effective pit radius\r\n",
    "width = df.loc['wall width','value']\r\n",
    "\r\n",
    "#input parameters for pit inflow \r\n",
    "W  = df.loc['distributed recharge','value']\r\n",
    "kh = df.loc['horizontal K','value']\r\n",
    "Base = df.loc['Base','value']\r\n",
    "sGWL = df.loc['static GWL','value']\r\n",
    "h0 = sGWL - Base\r\n",
    "b = df.loc['Saturated height at wall','value']\r\n",
    "\r\n",
    "print(df)\r\n",
    "#print values imported\r\n",
    "'''print('distributed recharge:',W,\r\n",
    "'horizontal K: ',kh,\r\n",
    "'Bottom of cur or wall:',Base,\r\n",
    "'Static water level: ',sGWL,\r\n",
    "'inital saturated thickness of aquifer: ',h0,\r\n",
    "'height of water at wall face: ',b)  '''"
   ],
   "outputs": [
    {
     "output_type": "stream",
     "name": "stdout",
     "text": [
      "                         symbol     value units                  comment\n",
      "Parameter                                                               \n",
      "wall width                    a  200.0000     m                      NaN\n",
      "distributed recharge          W    0.0002   m/d                      NaN\n",
      "horizontal K                 kh    0.1000   m/d                  minimum\n",
      "Base                       Base   50.0000  mAHD                      NaN\n",
      "static GWL                 sGWL   70.0000  mAHD                      NaN\n",
      "Saturated height at wall      b    1.0000     m  height of water at wall\n"
     ]
    },
    {
     "output_type": "execute_result",
     "data": {
      "text/plain": [
       "\"print('distributed recharge:',W,\\n'horizontal K: ',kh,\\n'Bottom of cur or wall:',Base,\\n'Static water level: ',sGWL,\\n'inital saturated thickness of aquifer: ',h0,\\n'height of water at wall face: ',b)  \""
      ]
     },
     "metadata": {},
     "execution_count": 14
    }
   ],
   "metadata": {}
  },
  {
   "cell_type": "code",
   "execution_count": 29,
   "source": [
    "#create a dictionary of lists with headers roi and pitinflow\r\n",
    "results = { \r\n",
    "            'DistOfInfluence_m':[],\r\n",
    "            'Wall_inflow_m3/d':[],\r\n",
    "            'drawdown_m':[],\r\n",
    "            'Saturated_thick_at_DistUpgradient_m':[],\r\n",
    "            'DistUpgradient_m':[]\r\n",
    "            }"
   ],
   "outputs": [],
   "metadata": {}
  },
  {
   "cell_type": "markdown",
   "source": [
    "## Calculation\r\n",
    "NOTE: This is for a steady state inflowusing a set saturated height at the wall.  \r\n",
    "Variable <b>b</b>"
   ],
   "metadata": {}
  },
  {
   "cell_type": "code",
   "execution_count": 41,
   "source": [
    "#h = h0 in this first equation to get distance of influence for aquifer thickness\r\n",
    "DistOfInfluence = math.sqrt(h0 **2 * kh - b**2 * kh)/math.sqrt(W)\r\n",
    "\r\n",
    "#DistUpgradient = various distance upgradient from the face to calculate saturated thckness and drawdown at\r\n",
    "DistUpgradient = np.linspace(1,DistOfInfluence,10)\r\n",
    "\r\n",
    "for dist in DistUpgradient:\r\n",
    "    h = math.sqrt(b**2 +W/kh*(2*DistOfInfluence * dist - dist**2))\r\n",
    "    Q = W * DistOfInfluence * width\r\n",
    "    Drawdown = h0 - h\r\n",
    "    \r\n",
    "    print('DistUpgradient is: ',round(dist,1),\r\n",
    "    ', Saturated height at distance upgradient: ',round(h,1),'m',\r\n",
    "    ',Drawdown is: ',round(Drawdown,1),'m',\r\n",
    "    ', Discharge is: ',round(Q,1),'m3/day')\r\n",
    "\r\n",
    "    # append data into list in dictionary\r\n",
    "    results['DistOfInfluence_m'].append(round(DistOfInfluence,1))\r\n",
    "    results['Wall_inflow_m3/d'].append(round(Q,1))\r\n",
    "    results['drawdown_m'].append(round(Drawdown,1))\r\n",
    "    results['Saturated_thick_at_DistUpgradient_m'].append(round(h,1))\r\n",
    "    results['DistUpgradient_m'].append(round(dist,1))"
   ],
   "outputs": [
    {
     "output_type": "stream",
     "name": "stdout",
     "text": [
      "DistUpgradient is:  1.0 , Saturated height at distance upgradient:  1.7 m ,Drawdown is:  18.3 m , Discharge is:  17.9 m3/day\n",
      "DistUpgradient is:  50.5 , Saturated height at distance upgradient:  9.3 m ,Drawdown is:  10.7 m , Discharge is:  17.9 m3/day\n",
      "DistUpgradient is:  100.0 , Saturated height at distance upgradient:  12.6 m ,Drawdown is:  7.4 m , Discharge is:  17.9 m3/day\n",
      "DistUpgradient is:  149.6 , Saturated height at distance upgradient:  14.9 m ,Drawdown is:  5.1 m , Discharge is:  17.9 m3/day\n",
      "DistUpgradient is:  199.1 , Saturated height at distance upgradient:  16.7 m ,Drawdown is:  3.3 m , Discharge is:  17.9 m3/day\n",
      "DistUpgradient is:  248.6 , Saturated height at distance upgradient:  17.9 m ,Drawdown is:  2.1 m , Discharge is:  17.9 m3/day\n",
      "DistUpgradient is:  298.1 , Saturated height at distance upgradient:  18.9 m ,Drawdown is:  1.1 m , Discharge is:  17.9 m3/day\n",
      "DistUpgradient is:  347.6 , Saturated height at distance upgradient:  19.5 m ,Drawdown is:  0.5 m , Discharge is:  17.9 m3/day\n",
      "DistUpgradient is:  397.1 , Saturated height at distance upgradient:  19.9 m ,Drawdown is:  0.1 m , Discharge is:  17.9 m3/day\n",
      "DistUpgradient is:  446.7 , Saturated height at distance upgradient:  20.0 m ,Drawdown is:  0.0 m , Discharge is:  17.9 m3/day\n"
     ]
    }
   ],
   "metadata": {}
  },
  {
   "cell_type": "markdown",
   "source": [
    "## Save to file"
   ],
   "metadata": {}
  },
  {
   "cell_type": "code",
   "execution_count": 42,
   "source": [
    "#name output file\r\n",
    "K = str(kh)\r\n",
    "distrutedRecharge =str(W)\r\n",
    "\r\n",
    "dt = str(datetime.now())\r\n",
    "dt = dt.split('.')[0].replace(':','-')\r\n",
    "output = 'K_'+ K + '_Recharge_' + distrutedRecharge+ '_wall_inflow_output_'+ dt +'.csv'\r\n",
    "\r\n",
    "#put dictionary into dataframe and then export dataframe to .csv file\r\n",
    "WallInflow = pd.DataFrame.from_dict(results,'columns')\r\n",
    "WallInflow.sort_values(by='DistUpgradient_m',ascending=True,inplace=True)"
   ],
   "outputs": [],
   "metadata": {}
  },
  {
   "cell_type": "markdown",
   "source": [
    "## Plot chart of drawdown upgradient from wall"
   ],
   "metadata": {}
  },
  {
   "cell_type": "code",
   "execution_count": 43,
   "source": [
    "ax = WallInflow.plot(x='DistUpgradient_m', y='drawdown_m',color='blue')\r\n",
    "ax.set_xlabel('Distance up gradient (m)')\r\n",
    "ax.set_ylabel('Drawdown (m)')\r\n",
    "ax.invert_yaxis()\r\n",
    "\r\n",
    "plt.show()"
   ],
   "outputs": [
    {
     "output_type": "display_data",
     "data": {
      "image/png": "[encoded data removed]",
      "text/plain": [
       "<Figure size 432x288 with 1 Axes>"
      ]
     },
     "metadata": {}
    }
   ],
   "metadata": {}
  }
 ],
 "metadata": {
  "orig_nbformat": 4,
  "language_info": {
   "name": "python",
   "version": "3.8.8",
   "mimetype": "text/x-python",
   "codemirror_mode": {
    "name": "ipython",
    "version": 3
   },
   "pygments_lexer": "ipython3",
   "nbconvert_exporter": "python",
   "file_extension": ".py"
  },
  "kernelspec": {
   "name": "python3",
   "display_name": "Python 3.8.8 64-bit ('base': conda)"
  },
  "interpreter": {
   "hash": "0e2092c8f9f7f316f37f91a11bd7564422990ac18a77b4b948a3dd68f7fe76a0"
  }
 },
 "nbformat": 4,
 "nbformat_minor": 2
}