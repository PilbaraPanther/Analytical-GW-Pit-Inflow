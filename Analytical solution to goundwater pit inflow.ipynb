{
  "cells": [
    {
      "metadata": {},
      "cell_type": "markdown",
      "source": "### Import required libraries"
    },
    {
      "metadata": {
        "trusted": true
      },
      "cell_type": "code",
      "source": "import math\nimport pandas as pd\nimport matplotlib.pyplot as plt\nimport matplotlib \nmatplotlib.style.use('ggplot')\nfrom datetime import datetime\nimport ipywidgets as widgets\nfrom IPython.display import display\n#from ipywidgets import interact, HBox, Label, VBox",
      "execution_count": 1,
      "outputs": []
    },
    {
      "metadata": {},
      "cell_type": "markdown",
      "source": "### Set input values here"
    },
    {
      "metadata": {
        "trusted": true
      },
      "cell_type": "code",
      "source": "style = {'description_width': 'initial'}   \n\nW = widgets.FloatText(description='Distributed recharge (m/d):',disabled=False,style=style)\nwidth = widgets.FloatText(description='Width of pit (m):',disabled=False,style=style)\nlength = widgets.FloatText(description='Length of pit (m):',disabled=False,style=style)\nkh1= widgets.FloatText( description='Kh - zone 1 (m/d):',disabled=False,style=style)   \nkh2 = widgets.FloatText(description='Kh - zone 2 (m/d):',disabled=False,style=style)\n#kv = widgets.FloatText(description='Kv - zone 2 (m/d):',disabled=False,style=style)\npitbase = widgets.FloatText(description='Pitbase elevation (mAHD):',disabled=False,style=style)\nsGWL = widgets.FloatText(description='Static groundwater elevation (mAHD):',disabled=False,style=style)\n\n#display FloatText widgets\ndisplay(W)\ndisplay(width) \ndisplay(length) \ndisplay(kh1) \ndisplay(kh2) \n#display(kv) \ndisplay(pitbase) \ndisplay(sGWL) \n\ndef on_value_change(change):\n    return(change)\n \nW.observe(on_value_change, names='value')\nwidth.observe(on_value_change, names='value')\nlength.observe(on_value_change, names='value')\nkh1.observe(on_value_change, names='value')\nkh2.observe(on_value_change, names='value')\npitbase.observe(on_value_change, names='value')\nsGWL.observe(on_value_change, names='value')",
      "execution_count": 2,
      "outputs": [
        {
          "output_type": "display_data",
          "data": {
            "application/vnd.jupyter.widget-view+json": {
              "model_id": "ca6fd92c105c4f478958961e82775a71",
              "version_minor": 0,
              "version_major": 2
            },
            "text/plain": "FloatText(value=0.0, description='Distributed recharge (m/d):', style=DescriptionStyle(description_width='init…"
          },
          "metadata": {}
        },
        {
          "output_type": "display_data",
          "data": {
            "application/vnd.jupyter.widget-view+json": {
              "model_id": "f75441a984f6480ba95a48019033de41",
              "version_minor": 0,
              "version_major": 2
            },
            "text/plain": "FloatText(value=0.0, description='Width of pit (m):', style=DescriptionStyle(description_width='initial'))"
          },
          "metadata": {}
        },
        {
          "output_type": "display_data",
          "data": {
            "application/vnd.jupyter.widget-view+json": {
              "model_id": "d205efab4bda420eaaceed849e054232",
              "version_minor": 0,
              "version_major": 2
            },
            "text/plain": "FloatText(value=0.0, description='Length of pit (m):', style=DescriptionStyle(description_width='initial'))"
          },
          "metadata": {}
        },
        {
          "output_type": "display_data",
          "data": {
            "application/vnd.jupyter.widget-view+json": {
              "model_id": "7bdedf024fa84f918f82e70a3b4d2574",
              "version_minor": 0,
              "version_major": 2
            },
            "text/plain": "FloatText(value=0.0, description='Kh - zone 1 (m/d):', style=DescriptionStyle(description_width='initial'))"
          },
          "metadata": {}
        },
        {
          "output_type": "display_data",
          "data": {
            "application/vnd.jupyter.widget-view+json": {
              "model_id": "80955c74e70f4a8abcfdbe09a13afe3d",
              "version_minor": 0,
              "version_major": 2
            },
            "text/plain": "FloatText(value=0.0, description='Kh - zone 2 (m/d):', style=DescriptionStyle(description_width='initial'))"
          },
          "metadata": {}
        },
        {
          "output_type": "display_data",
          "data": {
            "application/vnd.jupyter.widget-view+json": {
              "model_id": "1f0aba8276b64cef9379a377add228fd",
              "version_minor": 0,
              "version_major": 2
            },
            "text/plain": "FloatText(value=0.0, description='Pitbase elevation (mAHD):', style=DescriptionStyle(description_width='initia…"
          },
          "metadata": {}
        },
        {
          "output_type": "display_data",
          "data": {
            "application/vnd.jupyter.widget-view+json": {
              "model_id": "600b22548230454fa298f84fb16dcd8b",
              "version_minor": 0,
              "version_major": 2
            },
            "text/plain": "FloatText(value=0.0, description='Static groundwater elevation (mAHD):', style=DescriptionStyle(description_wi…"
          },
          "metadata": {}
        }
      ]
    },
    {
      "metadata": {},
      "cell_type": "markdown",
      "source": "### Pit inflow model"
    },
    {
      "metadata": {
        "trusted": true
      },
      "cell_type": "code",
      "source": "effectcircradius = math.sqrt(width.value*length.value/math.pi)\nprint ('effective radius is: ',round(effectcircradius,2), 'm')\n\n#input parameters for pit inflow \nhp = 0\nani = math.sqrt(kh2.value/(kh2.value/10))\nh0 = sGWL.value - pitbase.value\nprint ('Anistrophy is ',round(ani,2))\n\n#create a dictionary of lists with headers roi and pitinflow\nresults = {'R0_m':[],'zone_1_pit_inflow_m3/d':[],'drawdown_m':[],'zone_2_pit_inflow_m3/d':[],\n               'total_pit_inflow_m3/d':[],'pit_level_mRL':[]}\n\n#iterate through r0 values to find r0 equaling h0 from input\nwhile hp <= h0:\n    r0_lower = 0.0001\n    r0_upper = 100000\n    erra = 100\n    margin = 0.0000001\n    iter = 0\n    while erra > margin and iter < 1000:\n        r0_mid = ((r0_upper + r0_lower) / 2)\n        h0calc_m = math.sqrt(hp ** 2 + ((W.value / kh1.value) * (((r0_mid ** 2) * math.log(r0_mid / effectcircradius)) - \n                          ((r0_mid ** 2 - effectcircradius ** 2) / 2))))    \n        closeenough = math.isclose(h0,h0calc_m,rel_tol=0.000001,abs_tol=margin)\n        if h0 >= h0calc_m:\n            r0_lower = r0_mid\n        else:\n            r0_upper = r0_mid  \n\n        iter = iter +1  \n\n        '''print(r0_upper)\n        print('r0 is ',r0_mid)\n        print(r0_lower)\n        print('h0calc is ', h0calc_m)'''\n\n        if r0_mid <= 0.001:\n            radiusofinfluence = r0_mid\n            zone_1_pit_inflow = 0.0\n            zone_2_pit_inflow = 0.0\n        else:                \n            radiusofinfluence = r0_mid\n            zone_1_pit_inflow = W.value*math.pi*(radiusofinfluence**2-effectcircradius**2)\n            zone_2_pit_inflow = 4*(kh2.value/ani)*effectcircradius*(h0-hp)\n\n        total_pit_inflow = zone_1_pit_inflow + zone_2_pit_inflow\n        lake_level = pitbase.value + hp\n\n        if closeenough is True:\n            break\n\n    # append data into list in dictionary\n    results['R0_m'].append(round(radiusofinfluence,2))\n    results['zone_1_pit_inflow_m3/d'].append(round(zone_1_pit_inflow,2))\n    results['drawdown_m'].append(round(pitbase.value-hp,2))\n    results['zone_2_pit_inflow_m3/d'].append(round(zone_2_pit_inflow,2))\n    results['total_pit_inflow_m3/d'].append(round(total_pit_inflow,2))\n    results['pit_level_mRL'].append(round(lake_level,2))\n\n    if hp <= h0:\n        hp=hp+1\n\n    else:\n        break\n\n#name output file\nK = str(kh1.value)\ndistrutedRecharge =str(W.value)\ndt = str(datetime.now())\ndt1 = dt.split('.')\ndt2=dt1[0].replace(':','-')\noutput = 'K_'+ K + 'Recharge_' + distrutedRecharge+ '_pit_inflow_output_'+ dt2+'.csv'\n\n#put dictionary into dataframe and then export dataframe to .csv file\ndf1=pd.DataFrame.from_dict(results,'columns')\ndf1.sort_values(by='R0_m',ascending=True,inplace=True)\n\n#save t csv file\n#df1.to_csv(output,sep=',',columns=['R0_m','zone_1_pit_inflow_m3/d','zone_2_pit_inflow_m3/d',\n                                       #  'drawdown_m','pit_level_mRL','total_pit_inflow_m3/d'],header=True,index=False)\nprint(df1.head(10))\nprint ('Success - Pit inflow calculated. Results exported to',output)\n\n#results\n#print(df1)\n#chart\n#fig, ax = plt.subplots()\nax = df1.plot(x='total_pit_inflow_m3/d', y='pit_level_mRL',)\nax.set_xlabel('Inflow (m3/day)')\nax.set_ylabel('Pit floor elevation (mRL)')\n\nplt.show()",
      "execution_count": 3,
      "outputs": [
        {
          "output_type": "stream",
          "text": "effective radius is:  282.09 m\nAnistrophy is  3.16\n      R0_m  zone_1_pit_inflow_m3/d  drawdown_m  zone_2_pit_inflow_m3/d  \\\n50    0.00                    0.00       150.0                    0.00   \n49    0.00                    0.00       151.0                    0.00   \n48  376.35                  389.94       152.0                    7.14   \n47  395.93                  484.97       153.0                   10.70   \n46  411.96                  566.33       154.0                   14.27   \n45  425.70                  638.65       155.0                   17.84   \n44  437.81                  704.34       156.0                   21.41   \n43  448.67                  764.82       157.0                   24.98   \n42  458.53                  821.05       158.0                   28.55   \n41  467.57                  873.66       159.0                   32.11   \n\n    total_pit_inflow_m3/d  pit_level_mRL  \n50                   0.00          250.0  \n49                   0.00          249.0  \n48                 397.07          248.0  \n47                 495.67          247.0  \n46                 580.60          246.0  \n45                 656.50          245.0  \n44                 725.75          244.0  \n43                 789.80          243.0  \n42                 849.59          242.0  \n41                 905.77          241.0  \nSuccess - Pit inflow calculated. Results exported to K_0.1Recharge_0.002_pit_inflow_output_2020-08-31 00-37-41.csv\n",
          "name": "stdout"
        },
        {
          "output_type": "display_data",
          "data": {
            "image/png": "[encoded data removed]",
            "text/plain": "<Figure size 432x288 with 1 Axes>"
          },
          "metadata": {
            "needs_background": "light"
          }
        }
      ]
    },
    {
      "metadata": {
        "trusted": true
      },
      "cell_type": "code",
      "source": "print(W.observe.__doc__)",
      "execution_count": 4,
      "outputs": [
        {
          "output_type": "stream",
          "text": "Setup a handler to be called when a trait changes.\n\n        This is used to setup dynamic notifications of trait changes.\n\n        Parameters\n        ----------\n        handler : callable\n            A callable that is called when a trait changes. Its\n            signature should be ``handler(change)``, where ``change`` is a\n            dictionary. The change dictionary at least holds a 'type' key.\n            * ``type``: the type of notification.\n            Other keys may be passed depending on the value of 'type'. In the\n            case where type is 'change', we also have the following keys:\n            * ``owner`` : the HasTraits instance\n            * ``old`` : the old value of the modified trait attribute\n            * ``new`` : the new value of the modified trait attribute\n            * ``name`` : the name of the modified trait attribute.\n        names : list, str, All\n            If names is All, the handler will apply to all traits.  If a list\n            of str, handler will apply to all names in the list.  If a\n            str, the handler will apply just to that name.\n        type : str, All (default: 'change')\n            The type of notification to filter by. If equal to All, then all\n            notifications are passed to the observe handler.\n        \n",
          "name": "stdout"
        }
      ]
    },
    {
      "metadata": {
        "trusted": true
      },
      "cell_type": "code",
      "source": "int_range = widgets.IntSlider()\noutput2 = widgets.Output()\n\ndisplay(int_range, output2)\n\ndef on_value_change(change):\n    with output2:\n        (change['new'])\n\nint_range.observe(on_value_change, names='value')",
      "execution_count": 5,
      "outputs": [
        {
          "output_type": "display_data",
          "data": {
            "application/vnd.jupyter.widget-view+json": {
              "model_id": "2a6f0f437f5b4d8e8b26a910f0ddcbe2",
              "version_minor": 0,
              "version_major": 2
            },
            "text/plain": "IntSlider(value=0)"
          },
          "metadata": {}
        },
        {
          "output_type": "display_data",
          "data": {
            "application/vnd.jupyter.widget-view+json": {
              "model_id": "68aede34ad6648e992e286d40b9f2cc6",
              "version_minor": 0,
              "version_major": 2
            },
            "text/plain": "Output()"
          },
          "metadata": {}
        }
      ]
    },
    {
      "metadata": {
        "trusted": true
      },
      "cell_type": "code",
      "source": "",
      "execution_count": null,
      "outputs": []
    }
  ],
  "metadata": {
    "kernelspec": {
      "name": "python36",
      "display_name": "Python 3.6",
      "language": "python"
    },
    "language_info": {
      "mimetype": "text/x-python",
      "nbconvert_exporter": "python",
      "name": "python",
      "pygments_lexer": "ipython3",
      "version": "3.6.6",
      "file_extension": ".py",
      "codemirror_mode": {
        "version": 3,
        "name": "ipython"
      }
    }
  },
  "nbformat": 4,
  "nbformat_minor": 2
}